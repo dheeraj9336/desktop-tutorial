{
 "cells": [
  {
   "cell_type": "markdown",
   "metadata": {},
   "source": [
    "1. Create a string and print it"
   ]
  },
  {
   "cell_type": "code",
   "execution_count": 5,
   "metadata": {},
   "outputs": [
    {
     "name": "stdout",
     "output_type": "stream",
     "text": [
      "Hello\n",
      "hello\n",
      "hello\n"
     ]
    }
   ],
   "source": [
    "print('Hello')\n",
    "print(\"hello\")\n",
    "print('''hello''')"
   ]
  },
  {
   "cell_type": "code",
   "execution_count": 6,
   "metadata": {},
   "outputs": [
    {
     "name": "stdout",
     "output_type": "stream",
     "text": [
      "Dheeraj\n"
     ]
    }
   ],
   "source": [
    "a = \"Dheeraj\"\n",
    "print(a)"
   ]
  },
  {
   "cell_type": "markdown",
   "metadata": {},
   "source": [
    "2. Take a string input and print it's length"
   ]
  },
  {
   "cell_type": "code",
   "execution_count": 1,
   "metadata": {},
   "outputs": [
    {
     "name": "stdout",
     "output_type": "stream",
     "text": [
      "7\n"
     ]
    }
   ],
   "source": [
    "str = 'Dheeraj'\n",
    "print(len(str))"
   ]
  },
  {
   "cell_type": "markdown",
   "metadata": {},
   "source": [
    "3. Print the last word of the string Python is great using slices."
   ]
  },
  {
   "cell_type": "code",
   "execution_count": 3,
   "metadata": {},
   "outputs": [
    {
     "name": "stdout",
     "output_type": "stream",
     "text": [
      "great\n"
     ]
    }
   ],
   "source": [
    "string = input(\"Enter your string :\")\n",
    "words = string.split()\n",
    "print(words[-1])\n"
   ]
  },
  {
   "cell_type": "markdown",
   "metadata": {},
   "source": [
    "4.Print the each word in different line of string python is everywhere."
   ]
  },
  {
   "cell_type": "code",
   "execution_count": 4,
   "metadata": {},
   "outputs": [
    {
     "name": "stdout",
     "output_type": "stream",
     "text": [
      "python\n",
      "is\n",
      "everywhere\n"
     ]
    }
   ],
   "source": [
    "word = \"python is everywhere\"\n",
    "print(*word.split(), sep='\\n')"
   ]
  },
  {
   "cell_type": "markdown",
   "metadata": {},
   "source": [
    "5.Print the string Hello World! in reverse."
   ]
  },
  {
   "cell_type": "code",
   "execution_count": 6,
   "metadata": {},
   "outputs": [
    {
     "name": "stdout",
     "output_type": "stream",
     "text": [
      "dlroW olleH\n"
     ]
    }
   ],
   "source": [
    "a = \"Hello World\"[::-1]\n",
    "print(a)"
   ]
  },
  {
   "cell_type": "markdown",
   "metadata": {},
   "source": [
    "6. convert the string How are you? in uppercase."
   ]
  },
  {
   "cell_type": "code",
   "execution_count": 7,
   "metadata": {},
   "outputs": [
    {
     "name": "stdout",
     "output_type": "stream",
     "text": [
      "HOW ARE YOU\n"
     ]
    }
   ],
   "source": [
    "string = \"how are you\"\n",
    "print(string.upper())"
   ]
  },
  {
   "cell_type": "markdown",
   "metadata": {},
   "source": [
    "7.Convert the string How is it going ? in lowercase"
   ]
  },
  {
   "cell_type": "code",
   "execution_count": 9,
   "metadata": {},
   "outputs": [
    {
     "name": "stdout",
     "output_type": "stream",
     "text": [
      "how is it going \n"
     ]
    }
   ],
   "source": [
    "string = \"HOW IS IT GOING \"\n",
    "print(string. lower())"
   ]
  },
  {
   "cell_type": "markdown",
   "metadata": {},
   "source": [
    "8. Join the following list by spaces () and print the result\n",
    "    \n",
    "    word = ['python', 'is', 'easy', 'to', 'learn']"
   ]
  },
  {
   "cell_type": "code",
   "execution_count": 12,
   "metadata": {},
   "outputs": [
    {
     "name": "stdout",
     "output_type": "stream",
     "text": [
      "python ,is ,easy ,to ,learn\n"
     ]
    }
   ],
   "source": [
    "word = ['python' , 'is' ,'easy', 'to', 'learn']\n",
    "print(*word , sep = \" ,\") "
   ]
  },
  {
   "cell_type": "markdown",
   "metadata": {},
   "source": [
    "9. Print a multiline string using a single print"
   ]
  },
  {
   "cell_type": "code",
   "execution_count": 14,
   "metadata": {},
   "outputs": [
    {
     "name": "stdout",
     "output_type": "stream",
     "text": [
      "p\n",
      "r\n",
      "i\n",
      "n\n",
      "t\n",
      "\n"
     ]
    }
   ],
   "source": [
    "my_string = \"p\\n\"  \"r\\n\"  \"i\\n\" \"n\\n\"  \"t\\n\"\n",
    "\n",
    "print(my_string)"
   ]
  },
  {
   "cell_type": "markdown",
   "metadata": {},
   "source": [
    "10.Print this string to move newline '\\n' is used . (result should look like exactly like the provided string)"
   ]
  },
  {
   "cell_type": "code",
   "execution_count": 15,
   "metadata": {},
   "outputs": [
    {
     "name": "stdout",
     "output_type": "stream",
     "text": [
      "hello\n",
      "word\n"
     ]
    }
   ],
   "source": [
    "print(\"hello\\nword\")"
   ]
  },
  {
   "cell_type": "markdown",
   "metadata": {},
   "source": [
    "11.print a variable with some text using a single  print function , output should  look like following \n",
    "\n",
    "       the variable is 15"
   ]
  },
  {
   "cell_type": "code",
   "execution_count": 56,
   "metadata": {},
   "outputs": [
    {
     "name": "stdout",
     "output_type": "stream",
     "text": [
      "the variable is 15\n"
     ]
    }
   ],
   "source": [
    "var = 15\n",
    "print(f'the variable is {var}')"
   ]
  },
  {
   "cell_type": "markdown",
   "metadata": {},
   "source": [
    "12.  Concatenation the following string and print the result s1 = 'python' s2 = 'is' s3 = 'great'"
   ]
  },
  {
   "cell_type": "code",
   "execution_count": 16,
   "metadata": {},
   "outputs": [
    {
     "name": "stdout",
     "output_type": "stream",
     "text": [
      "concatenated three different string : pythonisgreat\n"
     ]
    }
   ],
   "source": [
    "s1 = 'python'\n",
    "s2 = 'is'\n",
    "s3 = 'great'\n",
    "str = s1+s2+s3\n",
    "\n",
    "print('concatenated three different string :',str)"
   ]
  },
  {
   "cell_type": "markdown",
   "metadata": {},
   "source": [
    "13. Print #20 time without using a loop"
   ]
  },
  {
   "cell_type": "code",
   "execution_count": 17,
   "metadata": {},
   "outputs": [
    {
     "name": "stdout",
     "output_type": "stream",
     "text": [
      "DDDDDDDDDDDDDDDDDDDD\n"
     ]
    }
   ],
   "source": [
    "print('D'*20)"
   ]
  },
  {
   "cell_type": "markdown",
   "metadata": {},
   "source": [
    "14. Print numbers from 1 to 9, each on a seperate line  followed by a dot output should look like the following\n",
    "       \n",
    "          1.\n",
    "          2.\n",
    "          3."
   ]
  },
  {
   "cell_type": "code",
   "execution_count": 18,
   "metadata": {},
   "outputs": [
    {
     "name": "stdout",
     "output_type": "stream",
     "text": [
      "1   . \n",
      "2   . \n",
      "3   . \n",
      "4   . \n",
      "5   . \n",
      "6   . \n",
      "7   . \n",
      "8   . \n",
      "9   . \n"
     ]
    }
   ],
   "source": [
    "for i in range (1,9+1):\n",
    "    print (i,\"  . \")"
   ]
  },
  {
   "cell_type": "markdown",
   "metadata": {},
   "source": [
    "15. ask user to input a sentence and print each word on a different line"
   ]
  },
  {
   "cell_type": "code",
   "execution_count": 21,
   "metadata": {},
   "outputs": [
    {
     "name": "stdout",
     "output_type": "stream",
     "text": [
      "hi hi dheeraj\n",
      "h\n",
      " i\n",
      " d\n",
      " h\n",
      " e\n",
      " e\n",
      " r\n",
      " a\n",
      " j\n",
      "\n"
     ]
    }
   ],
   "source": [
    "name = input ('Enter your name:')\n",
    "print (\"hi\",name)\n",
    "print(\"h\\n\", \"i\\n\",     \"d\\n\", \"h\\n\",\"e\\n\",\"e\\n\",\"r\\n\",\"a\\n\",\"j\\n\")"
   ]
  },
  {
   "cell_type": "markdown",
   "metadata": {},
   "source": [
    "17.ask user to input a string and print how many times e appeared in the string ."
   ]
  },
  {
   "cell_type": "code",
   "execution_count": 27,
   "metadata": {},
   "outputs": [
    {
     "name": "stdout",
     "output_type": "stream",
     "text": [
      "e occurs 2 times\n"
     ]
    }
   ],
   "source": [
    "str = input (\"Enter the string :\")\n",
    "ch = input (\"Enter the character to count:\");\n",
    "e = str. count (ch)\n",
    "print (ch, \"occurs\", e , \"times\")"
   ]
  },
  {
   "cell_type": "markdown",
   "metadata": {},
   "source": [
    "16.ask user to input a string and check if the string end with '?'"
   ]
  },
  {
   "cell_type": "code",
   "execution_count": 29,
   "metadata": {},
   "outputs": [
    {
     "name": "stdout",
     "output_type": "stream",
     "text": [
      "True\n"
     ]
    }
   ],
   "source": [
    "str = input (\"enter the string :\")\n",
    "x = str. endswith(\"?\")\n",
    "print (x)"
   ]
  },
  {
   "cell_type": "markdown",
   "metadata": {},
   "source": [
    "18. check if the input is a number."
   ]
  },
  {
   "cell_type": "code",
   "execution_count": 30,
   "metadata": {},
   "outputs": [
    {
     "name": "stdout",
     "output_type": "stream",
     "text": [
      "True\n"
     ]
    }
   ],
   "source": [
    "user_input = input (\"Enter the input \")\n",
    "\n",
    "print (user_input.isnumeric())"
   ]
  },
  {
   "cell_type": "markdown",
   "metadata": {},
   "source": [
    "19.Remove the extra spaces in begining and in the end of the following string\n",
    "\n",
    "       names =  '   this is not a good string   '"
   ]
  },
  {
   "cell_type": "code",
   "execution_count": 35,
   "metadata": {},
   "outputs": [
    {
     "name": "stdout",
     "output_type": "stream",
     "text": [
      "this is not a good string\n"
     ]
    }
   ],
   "source": [
    "name = '                     this is not a good string    '\n",
    "print (name.strip())"
   ]
  },
  {
   "cell_type": "markdown",
   "metadata": {},
   "source": [
    "20. ask user to input string , print found if any of the character is uppercase.."
   ]
  },
  {
   "cell_type": "code",
   "execution_count": 49,
   "metadata": {},
   "outputs": [
    {
     "name": "stdout",
     "output_type": "stream",
     "text": [
      "False\n"
     ]
    }
   ],
   "source": [
    "str = input(\"Enter the string\")\n",
    "print('str'.isupper())"
   ]
  },
  {
   "cell_type": "markdown",
   "metadata": {},
   "source": [
    "21.Extract names from the following string and store them in a list \n",
    "\n",
    "\n",
    "              name = 'joe, david, mark, tom, chris"
   ]
  },
  {
   "cell_type": "code",
   "execution_count": 55,
   "metadata": {},
   "outputs": [
    {
     "name": "stdout",
     "output_type": "stream",
     "text": [
      "['joe,', 'david,', 'mark,', 'tom,chris']\n"
     ]
    }
   ],
   "source": [
    "names = 'joe, david, mark, tom,chris'\n",
    "print(names.split())\n"
   ]
  },
  {
   "cell_type": "markdown",
   "metadata": {},
   "source": [
    "22.in the following string ,add aye in the end of every word and print the result\n",
    "\n",
    "              text = 'this is some text'"
   ]
  },
  {
   "cell_type": "code",
   "execution_count": 74,
   "metadata": {},
   "outputs": [
    {
     "name": "stdout",
     "output_type": "stream",
     "text": [
      "False\n"
     ]
    }
   ],
   "source": [
    "text = 'this is some text'\n",
    "result = text.endswith('aye')\n",
    "print(result)"
   ]
  },
  {
   "cell_type": "markdown",
   "metadata": {},
   "source": [
    "23.ask user to enter a string and check if the string contains fyi"
   ]
  },
  {
   "cell_type": "code",
   "execution_count": 73,
   "metadata": {},
   "outputs": [
    {
     "name": "stdout",
     "output_type": "stream",
     "text": [
      "no\n"
     ]
    }
   ],
   "source": [
    "str = input ('Enter a string ')\n",
    "substr = 'fyi'\n",
    "s = str.split()\n",
    "if substr in s :\n",
    "    print('yes')\n",
    "else:\n",
    "    print('no')"
   ]
  },
  {
   "cell_type": "markdown",
   "metadata": {},
   "source": [
    "24. Remove all the special characters and numbers from the following string\n",
    "\n",
    "      text = '%p34@y!*_*!t68h#&on404'"
   ]
  },
  {
   "cell_type": "code",
   "execution_count": 62,
   "metadata": {},
   "outputs": [
    {
     "name": "stdout",
     "output_type": "stream",
     "text": [
      "p34yt68hon404\n"
     ]
    }
   ],
   "source": [
    "s = '%p34@y!_!t68h#&on404'\n",
    "s1 = s.replace('%','')\n",
    "s2 = s1.replace('@','')\n",
    "s3 = s2.replace('!','')\n",
    "s4 = s3.replace('_','')\n",
    "s5 = s4.replace('&','')\n",
    "s6 = s5.replace('#','')\n",
    "print(s6)"
   ]
  },
  {
   "cell_type": "markdown",
   "metadata": {},
   "source": [
    "25. calculate the average length of following paragraph.\n",
    "\n",
    "\n",
    "              this is a paragraph which is written just for the purpose of providing content to let the average word length be calculated ."
   ]
  },
  {
   "cell_type": "code",
   "execution_count": 69,
   "metadata": {},
   "outputs": [
    {
     "data": {
      "text/plain": [
       "20.4"
      ]
     },
     "execution_count": 69,
     "metadata": {},
     "output_type": "execute_result"
    }
   ],
   "source": [
    "paragraph = 'this is a paragraph which is written just for the purpose of providing content to let the average word length be calculated'\n",
    "words = paragraph.split()\n",
    "average = sum(len(word)for word in words)/len(word)\n",
    "average"
   ]
  }
 ],
 "metadata": {
  "interpreter": {
   "hash": "19d1d53a962d236aa061289c2ac16dc8e6d9648c89fe79f459ae9a3493bc67b4"
  },
  "kernelspec": {
   "display_name": "Python 3.9.12 ('base')",
   "language": "python",
   "name": "python3"
  },
  "language_info": {
   "codemirror_mode": {
    "name": "ipython",
    "version": 3
   },
   "file_extension": ".py",
   "mimetype": "text/x-python",
   "name": "python",
   "nbconvert_exporter": "python",
   "pygments_lexer": "ipython3",
   "version": "3.9.12"
  },
  "orig_nbformat": 4
 },
 "nbformat": 4,
 "nbformat_minor": 2
}
